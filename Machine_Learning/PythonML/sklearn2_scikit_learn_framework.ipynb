{
 "cells": [
  {
   "cell_type": "markdown",
   "id": "2c655780",
   "metadata": {},
   "source": [
    "Source : 파이썬 머신러닝 완벽 가이드(권철민, 위키북스)"
   ]
  },
  {
   "cell_type": "markdown",
   "id": "6ca37f58",
   "metadata": {},
   "source": [
    "# scikit-learn의 기반 프레임워크"
   ]
  },
  {
   "cell_type": "markdown",
   "id": "483f374c",
   "metadata": {},
   "source": [
    "## Estimator"
   ]
  },
  {
   "cell_type": "markdown",
   "id": "86d7cee5",
   "metadata": {},
   "source": [
    "- **Supervised Learning(지도 학습)**  \n",
    "1. Classification(분류)  \n",
    "2. Regression(회귀)  \n",
    "\n",
    "\n",
    "- **Estimator** : Supervised Learning(지도 학습)의 모든 알고리즘을 구현한 클래스를 통칭  \n",
    "1. Classifier : scikit-learn에서 Classification(분류) 알고리즘을 구현한 클래스  \n",
    "2. Regressor : scikit-learn에서 Regression(회귀) 알고리즘을 구현한 클래스  \n",
    "\n",
    "이들 Classifier와 Regressor를 합쳐서 Estimator 클래스라고 부른다.  \n",
    "Estimator 클래스는 내부에서 ML 모델 학습을 위해서 fit( )을, 학습된 모델의 예측을 위해서 predict( )를 구현한다."
   ]
  },
  {
   "cell_type": "markdown",
   "id": "16ae5774",
   "metadata": {},
   "source": [
    "- **Unsupervised Learning(비지도 학습)**  \n",
    "1. Dimensionality Reduction(차원 축소)\n",
    "2. Clustering\n",
    "3. Feature Extraction\n",
    "\n",
    "scikit-learn에서 비지도 학습의 알고리즘을 구현한 클래스는 fit( ), transform( )을 적용한다.  \n",
    "- fit( ) : 지도학습에서처럼 '학습'을 의미하는 것이 아니라, 입력 데이터의 형태에 맞춰 데이터를 변환하기 위한 사전 구조를 맞추는 작업  \n",
    "- transform( ) : fit( )으로 변환을 위한 사전 구조를 맞추면 이후 입력 데이터의 Dimensionality Reduction, Clustering, Feature Extraction 등의 실제 작업을 수행함 "
   ]
  },
  {
   "cell_type": "code",
   "execution_count": null,
   "id": "6834160c",
   "metadata": {},
   "outputs": [],
   "source": []
  },
  {
   "cell_type": "markdown",
   "id": "daec7d75",
   "metadata": {},
   "source": [
    "## scikit-learn의 주요 모듈"
   ]
  },
  {
   "cell_type": "markdown",
   "id": "dd8cad56",
   "metadata": {},
   "source": [
    "- ML 모델을 구축하는 주요 프로세스  \n",
    "1. Feature Processing : Feature의 가공, 변경, 추출을 수행하는 피처 처리  \n",
    "2. ML Algorithms 학습/예측 수행  \n",
    "3. Model Evaluation  \n",
    "위 1~3단계를 반복적으로 수행한다.\n",
    "\n",
    "scikit-learn 패키지는 머신러닝 모델을 구축하는 주요 프로세스를 지원하기 위해 편리하고 다양하며 유연한 모듈을 지원한다.\n"
   ]
  },
  {
   "cell_type": "markdown",
   "id": "af89e524",
   "metadata": {},
   "source": [
    "분류|모듈명|설명\n",
    "----------|----------|----------\n",
    "예제 데이터|sklearn.datasets|scikit-learn에 내장되어 예제로 제공하는 Datasets\n",
    "||\n",
    "피처 처리|sklearn.preprocessing|데이터 전처리에 필요한 다양한 가공 기능 제공(문자열을 숫자형 코드 값으로 인코딩, 정규화, 스케일링 등)\n",
    "|sklearn.feature_selection|알고리즘에 큰 영향을 미치는 피처를 우선순위대로 셀렉션 작업을 수행하는 다양한 기능 제공\n",
    "|sklearn.feature_extraction|text나 image 데이터의 벡터화된 피처를 추출하는 데 사용됨\n",
    "||\n",
    "피처 처리 & 차원 축소|sklearn.decomposition|차원 축소와 관련한 알고리즘을 지원하는 모듈, PCA, NMF, Truncated SVD 등을 통해 차원 축소 기능을 수행\n",
    "||\n",
    "데이터 분리, 검증 & 파라미터 튜닝|sklearn.model_selection|교차 검증을 위한 학습용/테스트용 분리, GridSearch로 최적 파라미터 추출 등의 API 제공\n",
    "||\n",
    "평가|sklearn.metrics|분류, 회귀, 클러스터링, 페어와이즈에 대한 다양한 성능 측정 방법 제공 (Accuracy, Precision, Recall, ROC-AUC, RMSE 등)\n",
    "||\n",
    "ML Algorithms|sklearn.ensemble|Ensemble 알고리즘 제공, Random Forest, AdaBoost, Gradient Boosting\n",
    "|sklearn.linear_model|주로 선형 회귀, Ridge, Lasso 및 로지스틱 회귀 등 회귀 관련 알고리즘을 지원, SGD 관련 알고리즘도 지원\n",
    "|sklearn.naive_bayes|Naive Bayes 알고리즘 제공, Gaussian NB, Multinomial NB 등\n",
    "|sklearn.neighbors|K-Nearest Neighbor(K-NN, 최근접 이웃) 알고리즘 제공\n",
    "|sklearn.svm|SVM(Support Vector Machine) 알고리즘 제공\n",
    "|sklearn.tree|Decision Tree(의사 결정 트리) 알고리즘 제공\n",
    "|sklearn.cluster|Unsupervised Clustering 알고리즘 제공(K-Means, 계층형, DBSCAN 등)\n",
    "||\n",
    "Utility|sklearn.pipeline|피처 처리 등의 변환과 ML 알고리즘 학습, 예측 등을 함께 묶어서 실행할 수 있는 유틸리티 제공"
   ]
  },
  {
   "cell_type": "code",
   "execution_count": null,
   "id": "2b1c4fad",
   "metadata": {},
   "outputs": [],
   "source": []
  }
 ],
 "metadata": {
  "kernelspec": {
   "display_name": "Python 3",
   "language": "python",
   "name": "python3"
  },
  "language_info": {
   "codemirror_mode": {
    "name": "ipython",
    "version": 3
   },
   "file_extension": ".py",
   "mimetype": "text/x-python",
   "name": "python",
   "nbconvert_exporter": "python",
   "pygments_lexer": "ipython3",
   "version": "3.8.8"
  },
  "toc": {
   "base_numbering": 1,
   "nav_menu": {},
   "number_sections": true,
   "sideBar": true,
   "skip_h1_title": false,
   "title_cell": "Table of Contents",
   "title_sidebar": "Contents",
   "toc_cell": false,
   "toc_position": {},
   "toc_section_display": true,
   "toc_window_display": false
  },
  "varInspector": {
   "cols": {
    "lenName": 16,
    "lenType": 16,
    "lenVar": 40
   },
   "kernels_config": {
    "python": {
     "delete_cmd_postfix": "",
     "delete_cmd_prefix": "del ",
     "library": "var_list.py",
     "varRefreshCmd": "print(var_dic_list())"
    },
    "r": {
     "delete_cmd_postfix": ") ",
     "delete_cmd_prefix": "rm(",
     "library": "var_list.r",
     "varRefreshCmd": "cat(var_dic_list()) "
    }
   },
   "types_to_exclude": [
    "module",
    "function",
    "builtin_function_or_method",
    "instance",
    "_Feature"
   ],
   "window_display": false
  }
 },
 "nbformat": 4,
 "nbformat_minor": 5
}
