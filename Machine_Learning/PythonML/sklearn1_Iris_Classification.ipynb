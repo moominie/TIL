{
 "cells": [
  {
   "cell_type": "markdown",
   "id": "299ab9c2",
   "metadata": {},
   "source": [
    "# Iris Classification"
   ]
  },
  {
   "cell_type": "markdown",
   "id": "9ebc49c6",
   "metadata": {},
   "source": [
    "- **Supervised Learning(지도학습)**  \n",
    "학습을 위한 다양한 Features와 분류 결정값인 Label 데이터로 Model을 학습한 뒤, 별도의 Test Dataset에서 미지의 Label을 예측한다.  \n",
    "즉, 명확한 정답이 주어진 데이터를 먼저 학습한 뒤 미지의 정답을 예측하는 방식이다.  \n",
    "(예) Classification(분류)  \n",
    "\n",
    "\n",
    "    - Train Dataset : 학습을 위해 주어진 데이터 세트  \n",
    "    - Test Dataset : 머신러닝 모델의 예측 성능을 평가하기 위해 별도로 주어진 데이터 세트  "
   ]
  },
  {
   "cell_type": "markdown",
   "id": "526f3acf",
   "metadata": {},
   "source": [
    "- scikit-learn의 다양한 모듈  \n",
    "    - **sklearn.datasets** : 사이킷런에서 자체적으로 제공하는 데이터 세트를 생성하는 모듈의 모임  \n",
    "    - **sklearn.model_selection** : train dataset, test dataset, prediction dataset으로 데이터를 분리(train_test_split() 함수)하거나 최적의 Hyperparameter로 평가하기 위한 다양한 모듈의 모임  \n",
    "        \\#Hyperparameter : 머신러닝 알고리즘별로 최적의 학습을 위해 직접 입력하는 파라미터들을 통칭함, Hyperparameter를 통해 머신러닝 알고리즘의 성능을 튜닝할 수 있음"
   ]
  },
  {
   "cell_type": "markdown",
   "id": "5b0f1012",
   "metadata": {},
   "source": [
    "## 붓꽃 품종 예측하기  \n",
    "ML 알고리즘 : Decision Tree(의사 결정 트리) 알고리즘을 구현한 DecisionTreeClassifier를 적용"
   ]
  },
  {
   "cell_type": "markdown",
   "id": "19ad8d55",
   "metadata": {},
   "source": [
    "**Process**  \n",
    "1. Dataset 분리 : train, test dataset을 분리한다.  \n",
    "2. Model training(모델 학습) : train data를 기반으로 ML Algorithm을 적용해 모델을 학습시킨다.  \n",
    "3. Make Predictions(예측 수행) : 학습된 ML 모델을 이용해 test data의 분류(붓꽃 품종)를 예측한다.  \n",
    "4. Model Evaluation(모델 평가) : 예측된 결괏값과 test data의 실제 결괏값을 비교해 ML 모델 성능을 평가한다."
   ]
  },
  {
   "cell_type": "markdown",
   "id": "041c2cdd",
   "metadata": {},
   "source": [
    "- Iris 데이터의 Features  \n",
    "    - Sepal length (꽃받침의 길이)\n",
    "    - Sepal width (꽃받침의 너비)\n",
    "    - Petal length (꽃잎의 길이)\n",
    "    - Petal width (꽃잎의 너비)  \n",
    "\n",
    "\n",
    "- Iris 데이터의 Label(품종)\n",
    "    - Setosa\n",
    "    - Vesicolor\n",
    "    - Virginica"
   ]
  },
  {
   "cell_type": "markdown",
   "id": "a6ce3e71",
   "metadata": {},
   "source": [
    "### Iris Dataset 준비"
   ]
  },
  {
   "cell_type": "code",
   "execution_count": 1,
   "id": "05248a25",
   "metadata": {
    "ExecuteTime": {
     "end_time": "2021-10-01T08:10:14.609050Z",
     "start_time": "2021-10-01T08:10:08.559686Z"
    }
   },
   "outputs": [],
   "source": [
    "from sklearn.datasets import load_iris\n",
    "from sklearn.tree import DecisionTreeClassifier\n",
    "from sklearn.model_selection import train_test_split"
   ]
  },
  {
   "cell_type": "code",
   "execution_count": 13,
   "id": "489f8631",
   "metadata": {
    "ExecuteTime": {
     "end_time": "2021-10-01T08:42:31.231588Z",
     "start_time": "2021-10-01T08:42:31.221291Z"
    }
   },
   "outputs": [],
   "source": [
    "import pandas as pd\n",
    "\n",
    "#Iris Dataset load\n",
    "iris = load_iris()\n",
    "\n",
    "#Iris Dataset 정보 확인하기\n",
    "#print(iris['DESCR'])"
   ]
  },
  {
   "cell_type": "code",
   "execution_count": 11,
   "id": "ddbec233",
   "metadata": {
    "ExecuteTime": {
     "end_time": "2021-10-01T08:40:21.819211Z",
     "start_time": "2021-10-01T08:40:21.814867Z"
    }
   },
   "outputs": [
    {
     "name": "stdout",
     "output_type": "stream",
     "text": [
      "iris feature명:  ['sepal length (cm)', 'sepal width (cm)', 'petal length (cm)', 'petal width (cm)']\n",
      "iris feature값:  [[5.1 3.5 1.4 0.2]\n",
      " [4.9 3.  1.4 0.2]\n",
      " [4.7 3.2 1.3 0.2]\n",
      " [4.6 3.1 1.5 0.2]\n",
      " [5.  3.6 1.4 0.2]]\n"
     ]
    }
   ],
   "source": [
    "#iris.data는 Iris 데이터에서 feature만으로 된 데이터를 numpy로 가지고 있음\n",
    "iris_data = iris.data\n",
    "print('iris feature명: ', iris.feature_names)\n",
    "print('iris feature값: ', iris_data[:5]) #5개 행만 표시"
   ]
  },
  {
   "cell_type": "code",
   "execution_count": 12,
   "id": "c7425428",
   "metadata": {
    "ExecuteTime": {
     "end_time": "2021-10-01T08:42:07.702073Z",
     "start_time": "2021-10-01T08:42:07.697547Z"
    },
    "scrolled": true
   },
   "outputs": [
    {
     "name": "stdout",
     "output_type": "stream",
     "text": [
      "iris target명:  ['setosa' 'versicolor' 'virginica']\n",
      "iris target값:  [0 0 0 0 0 0 0 0 0 0 0 0 0 0 0 0 0 0 0 0 0 0 0 0 0 0 0 0 0 0 0 0 0 0 0 0 0\n",
      " 0 0 0 0 0 0 0 0 0 0 0 0 0 1 1 1 1 1 1 1 1 1 1 1 1 1 1 1 1 1 1 1 1 1 1 1 1\n",
      " 1 1 1 1 1 1 1 1 1 1 1 1 1 1 1 1 1 1 1 1 1 1 1 1 1 1 2 2 2 2 2 2 2 2 2 2 2\n",
      " 2 2 2 2 2 2 2 2 2 2 2 2 2 2 2 2 2 2 2 2 2 2 2 2 2 2 2 2 2 2 2 2 2 2 2 2 2\n",
      " 2 2]\n"
     ]
    }
   ],
   "source": [
    "#iris.target은 Iris Dataset에서 Label(결정 값) 데이터를 numpy로 가지고 있음\n",
    "iris_label = iris.target\n",
    "print('iris target명: ', iris.target_names)\n",
    "print('iris target값: ', iris_label)"
   ]
  },
  {
   "cell_type": "markdown",
   "id": "ddb1d4c1",
   "metadata": {},
   "source": [
    "Label(결정값)은 0, 1, 2 세 가지 값으로 돼 있으며 0이 Setosa, 1이 Versicolor, 2가 Virginica 품종을 의미한다."
   ]
  },
  {
   "cell_type": "code",
   "execution_count": 14,
   "id": "0dd56d48",
   "metadata": {
    "ExecuteTime": {
     "end_time": "2021-10-01T08:44:58.641358Z",
     "start_time": "2021-10-01T08:44:58.599155Z"
    }
   },
   "outputs": [
    {
     "data": {
      "text/html": [
       "<div>\n",
       "<style scoped>\n",
       "    .dataframe tbody tr th:only-of-type {\n",
       "        vertical-align: middle;\n",
       "    }\n",
       "\n",
       "    .dataframe tbody tr th {\n",
       "        vertical-align: top;\n",
       "    }\n",
       "\n",
       "    .dataframe thead th {\n",
       "        text-align: right;\n",
       "    }\n",
       "</style>\n",
       "<table border=\"1\" class=\"dataframe\">\n",
       "  <thead>\n",
       "    <tr style=\"text-align: right;\">\n",
       "      <th></th>\n",
       "      <th>sepal length (cm)</th>\n",
       "      <th>sepal width (cm)</th>\n",
       "      <th>petal length (cm)</th>\n",
       "      <th>petal width (cm)</th>\n",
       "      <th>label</th>\n",
       "    </tr>\n",
       "  </thead>\n",
       "  <tbody>\n",
       "    <tr>\n",
       "      <th>0</th>\n",
       "      <td>5.1</td>\n",
       "      <td>3.5</td>\n",
       "      <td>1.4</td>\n",
       "      <td>0.2</td>\n",
       "      <td>0</td>\n",
       "    </tr>\n",
       "    <tr>\n",
       "      <th>1</th>\n",
       "      <td>4.9</td>\n",
       "      <td>3.0</td>\n",
       "      <td>1.4</td>\n",
       "      <td>0.2</td>\n",
       "      <td>0</td>\n",
       "    </tr>\n",
       "    <tr>\n",
       "      <th>2</th>\n",
       "      <td>4.7</td>\n",
       "      <td>3.2</td>\n",
       "      <td>1.3</td>\n",
       "      <td>0.2</td>\n",
       "      <td>0</td>\n",
       "    </tr>\n",
       "    <tr>\n",
       "      <th>3</th>\n",
       "      <td>4.6</td>\n",
       "      <td>3.1</td>\n",
       "      <td>1.5</td>\n",
       "      <td>0.2</td>\n",
       "      <td>0</td>\n",
       "    </tr>\n",
       "    <tr>\n",
       "      <th>4</th>\n",
       "      <td>5.0</td>\n",
       "      <td>3.6</td>\n",
       "      <td>1.4</td>\n",
       "      <td>0.2</td>\n",
       "      <td>0</td>\n",
       "    </tr>\n",
       "  </tbody>\n",
       "</table>\n",
       "</div>"
      ],
      "text/plain": [
       "   sepal length (cm)  sepal width (cm)  petal length (cm)  petal width (cm)  \\\n",
       "0                5.1               3.5                1.4               0.2   \n",
       "1                4.9               3.0                1.4               0.2   \n",
       "2                4.7               3.2                1.3               0.2   \n",
       "3                4.6               3.1                1.5               0.2   \n",
       "4                5.0               3.6                1.4               0.2   \n",
       "\n",
       "   label  \n",
       "0      0  \n",
       "1      0  \n",
       "2      0  \n",
       "3      0  \n",
       "4      0  "
      ]
     },
     "execution_count": 14,
     "metadata": {},
     "output_type": "execute_result"
    }
   ],
   "source": [
    "#DataFrame으로 변환하기\n",
    "iris_df = pd.DataFrame(data=iris_data, columns=iris.feature_names)\n",
    "iris_df['label'] = iris.target\n",
    "iris_df.head(5)"
   ]
  },
  {
   "cell_type": "code",
   "execution_count": null,
   "id": "adc789ad",
   "metadata": {},
   "outputs": [],
   "source": []
  },
  {
   "cell_type": "markdown",
   "id": "bdccce8f",
   "metadata": {
    "ExecuteTime": {
     "end_time": "2021-10-01T09:48:50.840970Z",
     "start_time": "2021-10-01T09:48:50.837099Z"
    }
   },
   "source": [
    "### train, test dataset split"
   ]
  },
  {
   "cell_type": "markdown",
   "id": "c5c09f4c",
   "metadata": {},
   "source": [
    "- train_test_split() : 학습 데이터와 테스트 데이터를 test_size 파라미터 입력 값의 비율로 쉽게 분할한다.  "
   ]
  },
  {
   "cell_type": "code",
   "execution_count": 23,
   "id": "d52505fd",
   "metadata": {
    "ExecuteTime": {
     "end_time": "2021-10-01T09:59:09.805765Z",
     "start_time": "2021-10-01T09:59:09.800966Z"
    }
   },
   "outputs": [],
   "source": [
    "#train_test_split() 호출하기\n",
    "X_train, X_test, y_train, y_test = train_test_split(iris_data, iris_label, test_size=0.2, random_state=11)"
   ]
  },
  {
   "cell_type": "markdown",
   "id": "4bee3843",
   "metadata": {},
   "source": [
    "- 입력 파라미터\n",
    "1. iris_data : Feature dataset  \n",
    "2. iris_label : Label dataset  \n",
    "3. test_size=0.2 : 전체 dataset 중 test dataset의 비율을 20%로 함  \n",
    "4. random_state : random값을 만드는 seed와 같은 의미, 수행할 때마다 동일한 dataset으로 분리하기 위해 random_state를 일정한 숫자 값으로 부여함  \n",
    "\n",
    "\n",
    "- 반환 값\n",
    "1. 학습용 Feature dataset을 X_train으로 반환함  \n",
    "2. 테스트용 Feature dataset을 X_test로 반환함  \n",
    "3. 학습용 Label dataset을 y_train으로 반환함  \n",
    "4. 테스트용 Label dataset을 y_test로 반환함"
   ]
  },
  {
   "cell_type": "code",
   "execution_count": null,
   "id": "3823359d",
   "metadata": {},
   "outputs": [],
   "source": []
  },
  {
   "cell_type": "markdown",
   "id": "b4a5b5d4",
   "metadata": {},
   "source": [
    "### Model Training(모델 학습)"
   ]
  },
  {
   "cell_type": "markdown",
   "id": "4eaed0dd",
   "metadata": {},
   "source": [
    "ML Classification Algorithms 중 하나인 Decision Tree(의사 결정 트리)를 이용해 학습"
   ]
  },
  {
   "cell_type": "markdown",
   "id": "95653ad1",
   "metadata": {},
   "source": [
    "- fit( ) : 학습 수행 메서드  "
   ]
  },
  {
   "cell_type": "code",
   "execution_count": 24,
   "id": "5770d933",
   "metadata": {
    "ExecuteTime": {
     "end_time": "2021-10-01T10:02:47.368322Z",
     "start_time": "2021-10-01T10:02:47.345122Z"
    }
   },
   "outputs": [
    {
     "data": {
      "text/plain": [
       "DecisionTreeClassifier(random_state=11)"
      ]
     },
     "execution_count": 24,
     "metadata": {},
     "output_type": "execute_result"
    }
   ],
   "source": [
    "#DecisionTreeClassifier 객체 생성  \n",
    "dt_clf = DecisionTreeClassifier(random_state=11)\n",
    "\n",
    "#학습 수행\n",
    "dt_clf.fit(X_train, y_train)"
   ]
  },
  {
   "cell_type": "markdown",
   "id": "3b190b8d",
   "metadata": {},
   "source": [
    "### Predictions(예측 수행)"
   ]
  },
  {
   "cell_type": "markdown",
   "id": "91739556",
   "metadata": {},
   "source": [
    "- predict( ) : 예측 수행 메서드"
   ]
  },
  {
   "cell_type": "code",
   "execution_count": 26,
   "id": "40d61064",
   "metadata": {
    "ExecuteTime": {
     "end_time": "2021-10-01T10:05:36.659819Z",
     "start_time": "2021-10-01T10:05:36.656173Z"
    }
   },
   "outputs": [],
   "source": [
    "#학습이 완료된 DecisionTreeClassifier 객체에서 테스트 데이터 세트로 예측 수행  \n",
    "pred = dt_clf.predict(X_test)"
   ]
  },
  {
   "cell_type": "markdown",
   "id": "2aed3328",
   "metadata": {},
   "source": [
    "### Evaluation(모델 성능 평가)"
   ]
  },
  {
   "cell_type": "markdown",
   "id": "6b0ee880",
   "metadata": {},
   "source": [
    "- accuracy_score( ) : 정확도 측정 메서드  \n",
    "\\#Accuracy(정확도) : 예측 결과가 실제 레이블 값과 얼마나 정확하게 맞는지를 평가하는 지표  \n",
    "    - 입력 파라미터  \n",
    "        1. 실제 Label dataset  \n",
    "        2. 예측 Label dataset"
   ]
  },
  {
   "cell_type": "code",
   "execution_count": 28,
   "id": "592a5536",
   "metadata": {
    "ExecuteTime": {
     "end_time": "2021-10-01T10:12:18.352198Z",
     "start_time": "2021-10-01T10:12:18.345174Z"
    }
   },
   "outputs": [
    {
     "name": "stdout",
     "output_type": "stream",
     "text": [
      "예측 정확도: 0.9333\n"
     ]
    }
   ],
   "source": [
    "#예측한 붓꽃 품종과 실제 테스트 데이터 세트의 붓꽃 품종이 얼마나 일치하는지 확인하기\n",
    "from sklearn.metrics import accuracy_score\n",
    "print('예측 정확도: {0:.4f}'.format(accuracy_score(y_test, pred)))"
   ]
  },
  {
   "cell_type": "markdown",
   "id": "377aca9d",
   "metadata": {},
   "source": [
    "학습한 의사 결정 트리의 알고리즘 예측 정확도가 약 0.9333(93.33%)으로 측정됨"
   ]
  },
  {
   "cell_type": "code",
   "execution_count": null,
   "id": "cb7b5040",
   "metadata": {},
   "outputs": [],
   "source": []
  }
 ],
 "metadata": {
  "kernelspec": {
   "display_name": "Python 3",
   "language": "python",
   "name": "python3"
  },
  "language_info": {
   "codemirror_mode": {
    "name": "ipython",
    "version": 3
   },
   "file_extension": ".py",
   "mimetype": "text/x-python",
   "name": "python",
   "nbconvert_exporter": "python",
   "pygments_lexer": "ipython3",
   "version": "3.8.8"
  },
  "toc": {
   "base_numbering": 1,
   "nav_menu": {},
   "number_sections": true,
   "sideBar": true,
   "skip_h1_title": false,
   "title_cell": "Table of Contents",
   "title_sidebar": "Contents",
   "toc_cell": false,
   "toc_position": {},
   "toc_section_display": true,
   "toc_window_display": false
  },
  "varInspector": {
   "cols": {
    "lenName": 16,
    "lenType": 16,
    "lenVar": 40
   },
   "kernels_config": {
    "python": {
     "delete_cmd_postfix": "",
     "delete_cmd_prefix": "del ",
     "library": "var_list.py",
     "varRefreshCmd": "print(var_dic_list())"
    },
    "r": {
     "delete_cmd_postfix": ") ",
     "delete_cmd_prefix": "rm(",
     "library": "var_list.r",
     "varRefreshCmd": "cat(var_dic_list()) "
    }
   },
   "types_to_exclude": [
    "module",
    "function",
    "builtin_function_or_method",
    "instance",
    "_Feature"
   ],
   "window_display": false
  }
 },
 "nbformat": 4,
 "nbformat_minor": 5
}
